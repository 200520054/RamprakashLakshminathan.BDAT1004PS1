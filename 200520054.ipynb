{
 "cells": [
  {
   "cell_type": "code",
   "execution_count": 2,
   "id": "1b3f879a",
   "metadata": {},
   "outputs": [
    {
     "name": "stdout",
     "output_type": "stream",
     "text": [
      "Data type of S1: <class 'int'>\n",
      "Data type of S2: <class 'float'>\n",
      "Data type of S3: <class 'bool'>\n",
      "Data type of S4: <class 'str'>\n",
      "Data type of S5: <class 'int'>\n",
      "Data type of S6: <class 'str'>\n",
      "Data type of S7: <class 'str'>\n",
      "Data type of S8: <class 'float'>\n",
      "Data type of S9: <class 'int'>\n",
      "Data type of S10: <class 'set'>\n",
      "Data type of S11: <class 'bool'>\n"
     ]
    }
   ],
   "source": [
    "S1=5\n",
    "S2=5.0\n",
    "S3=5 > 1\n",
    "S4='5'\n",
    "S5=5 * 2\n",
    "S6='5' * 2\n",
    "S7='5' + '2'\n",
    "S8=5 / 2\n",
    "S9=5 % 2\n",
    "S10={5,2,1}\n",
    "S11= 5 == 3\n",
    "print(\"Data type of S1:\",type(S1))\n",
    "print(\"Data type of S2:\",type(S2))\n",
    "print(\"Data type of S3:\",type(S3))\n",
    "print(\"Data type of S4:\",type(S4))\n",
    "print(\"Data type of S5:\",type(S5))\n",
    "print(\"Data type of S6:\",type(S6))\n",
    "print(\"Data type of S7:\",type(S7))\n",
    "print(\"Data type of S8:\",type(S8))\n",
    "print(\"Data type of S9:\",type(S9))\n",
    "print(\"Data type of S10:\",type(S10))\n",
    "print(\"Data type of S11:\",type(S11))"
   ]
  },
  {
   "cell_type": "code",
   "execution_count": 3,
   "id": "6de83773",
   "metadata": {},
   "outputs": [
    {
     "name": "stdout",
     "output_type": "stream",
     "text": [
      "2.(a) There are  34 letters in the text Supercalifragilisticexpialidocious\n"
     ]
    }
   ],
   "source": [
    "Text='Supercalifragilisticexpialidocious'\n",
    "print('2.(a) There are ',+ len(Text),'letters in the text Supercalifragilisticexpialidocious')"
   ]
  },
  {
   "cell_type": "code",
   "execution_count": 4,
   "id": "dc97d771",
   "metadata": {
    "scrolled": true
   },
   "outputs": [
    {
     "name": "stdout",
     "output_type": "stream",
     "text": [
      "2.(b).ice found in the text : Supercalifragilisticexpialidocious\n"
     ]
    }
   ],
   "source": [
    "T1='Supercalifragilisticexpialidocious'\n",
    "if(T1.find('ice') == -1):\n",
    "    print('2.(b).ice not found in the text : ' + str(T1))\n",
    "else:\n",
    "    print('2.(b).ice found in the text : ' + str(T1))"
   ]
  },
  {
   "cell_type": "code",
   "execution_count": 5,
   "id": "8037e772",
   "metadata": {},
   "outputs": [
    {
     "name": "stdout",
     "output_type": "stream",
     "text": [
      "2.(c).Supercalifragilisticexpialidocious Bababadalgharaghtakamminarronnkonn  were the longest words in the text containing length of 34 letters each\n"
     ]
    }
   ],
   "source": [
    "T1='Supercalifragilisticexpialidocious'\n",
    "T2='Honorificabilitudinitatibus'\n",
    "T3='Bababadalgharaghtakamminarronnkonn'\n",
    "\n",
    "StrAry=[len(T1),len(T2),len(T3)]\n",
    "StrAry1=[T1,T2,T3]\n",
    "MaxLength=max(StrAry)\n",
    "S1=''\n",
    "for X in StrAry1:\n",
    "    if(MaxLength == len(X)):\n",
    "        S1 += X +\" \";\n",
    "else:\n",
    "        S2=''\n",
    "print('2.(c).'+ S1,S2 + 'were the longest words in the text containing length of ' + str(MaxLength) + ' letters each')"
   ]
  },
  {
   "cell_type": "code",
   "execution_count": 6,
   "id": "d463be6b",
   "metadata": {},
   "outputs": [
    {
     "name": "stdout",
     "output_type": "stream",
     "text": [
      "2.(d).Bartokwill be the first word and Buxtehude will be the last word in dictionary from the given names\n"
     ]
    }
   ],
   "source": [
    "Name=['Berlioz','Borodin','Bartok','Bellini','Buxtehude','Bernstein']\n",
    "print('2.(d).'+ min(Name) + 'will be the first word and ' + max(Name) + ' will be the last word in dictionary from the given names')"
   ]
  },
  {
   "cell_type": "code",
   "execution_count": 7,
   "id": "87daf3d3",
   "metadata": {},
   "outputs": [
    {
     "name": "stdout",
     "output_type": "stream",
     "text": [
      "Enter value for side S1 :2\n",
      "Enter value for side S2 :2\n",
      "Enter value for side S3 :2\n",
      "TRIANGLE_AREA of (2,2,2) is 1.7320508075688772\n"
     ]
    }
   ],
   "source": [
    "import math\n",
    "S1=int(input('Enter value for side S1 :'))\n",
    "S2=int(input('Enter value for side S2 :'))\n",
    "S3=int(input('Enter value for side S3 :'))\n",
    "S=(S1+S2+S3)/2\n",
    "TRIANGLE_AREA=math.sqrt(S*(S-S1)*(S-S2)*(S-S3))\n",
    "print('TRIANGLE_AREA of ('+ str(S1) + ',' + str(S2) + ',' + str(S3) + ') is '+ str(TRIANGLE_AREA))\n",
    "\n"
   ]
  },
  {
   "cell_type": "code",
   "execution_count": 8,
   "id": "7d85eecc",
   "metadata": {},
   "outputs": [
    {
     "name": "stdout",
     "output_type": "stream",
     "text": [
      "The Even elements are 42 56 32 \n",
      "The Odd elements are 25 47 \n"
     ]
    }
   ],
   "source": [
    "Num=[25,47,42,56,32]\n",
    "T1='The Even elements are '\n",
    "T2='The Odd elements are '\n",
    "for X in Num :\n",
    "    if(X%2 == 0):\n",
    "        T1 += str(X) + ' ';\n",
    "    else:\n",
    "        T2 += str(X) +' ';\n",
    "print(T1)\n",
    "print(T2)"
   ]
  },
  {
   "cell_type": "code",
   "execution_count": 25,
   "id": "7d89390d",
   "metadata": {},
   "outputs": [
    {
     "name": "stdout",
     "output_type": "stream",
     "text": [
      "5.a True\n",
      "5.a False\n",
      "5.b False\n"
     ]
    }
   ],
   "source": [
    "def inside(x,y,x1,y1,x2,y2):\n",
    "    return x >= x1 and x <= x2 and y >= y1 and y <= y2\n",
    "print('5.a',inside(1,1,0,0,2,3))\n",
    "print('5.a',inside(-1,-1,0,0,2,3))\n",
    "\n",
    "print('5.b',inside(1,1,0.3,0.5,1.1,0.7))\n",
    "\n"
   ]
  },
  {
   "cell_type": "code",
   "execution_count": 30,
   "id": "20ca31b5",
   "metadata": {},
   "outputs": [
    {
     "name": "stdout",
     "output_type": "stream",
     "text": [
      "Enter word\n",
      "apple\n",
      "appleway\n"
     ]
    }
   ],
   "source": [
    "print('Enter word')\n",
    "a=input()\n",
    "a=a.lower()\n",
    "b=a[0]\n",
    "if(b=='a' or b=='e' or b=='i' or b=='o' or b=='u'):\n",
    "    print(a +'way')\n",
    "else:\n",
    "    print('pig-Latin of : ' + a[1:] + ''+ b + 'ay')\n",
    "\n"
   ]
  },
  {
   "cell_type": "code",
   "execution_count": 27,
   "id": "259e4a8e",
   "metadata": {},
   "outputs": [
    {
     "name": "stdout",
     "output_type": "stream",
     "text": [
      "There are 15 patients of blood type A.\n",
      "There are one patients of blood type B.\n",
      "There are 13 patients of blood type AB.\n",
      "There are 15 patients of blood type O.\n",
      "There are no patients of blood type OO.\n"
     ]
    }
   ],
   "source": [
    "items=\"\"\n",
    "with open(\"bloodtype1.txt\",'r') as f:\n",
    " items = f.readline().split()\n",
    "A=0\n",
    "B=0\n",
    "AB=0\n",
    "O=0\n",
    "OO=0\n",
    "count = 0\n",
    "for item in items:\n",
    "    if item == 'A':\n",
    "        A+=1\n",
    "    elif item =='B':\n",
    "       B+=1\n",
    "    elif item =='AB':\n",
    "       AB+=1\n",
    "    elif item =='O':\n",
    "       O+=1\n",
    "    elif item =='OO':\n",
    "       OO+=1   \n",
    "    else :\n",
    "        count +=1\n",
    "if B == 1:\n",
    " Btext = \"one\"\n",
    "else:\n",
    " Btext = str(B)\n",
    " \n",
    "if OO == 0:\n",
    " OOtext = \"no\"\n",
    "else:\n",
    " OOtext = str(OO)\n",
    " \n",
    "print(\"There are \"+ str(A) +\" patients of blood type A.\")\n",
    "print(\"There are \"+ Btext +\" patients of blood type B.\")\n",
    "print(\"There are \"+str(AB) +\" patients of blood type AB.\")\n",
    "print(\"There are \"+ str(O) +\" patients of blood type O.\")\n",
    "print(\"There are \"+ OOtext +\" patients of blood type OO.\")"
   ]
  },
  {
   "cell_type": "code",
   "execution_count": 33,
   "id": "5328ebe5",
   "metadata": {},
   "outputs": [],
   "source": []
  },
  {
   "cell_type": "code",
   "execution_count": 11,
   "id": "71ac00c6",
   "metadata": {},
   "outputs": [
    {
     "name": "stdout",
     "output_type": "stream",
     "text": [
      "Adding incompatible variables, as adding in 6 + x \n",
      "9.a.Adding x + y causes the following exception- TypeError: Unsupported operand type(s) for +: int and str\n"
     ]
    }
   ],
   "source": [
    "print('Adding incompatible variables, as adding in 6 + x ')\n",
    "x=6\n",
    "y='x'\n",
    "print('9.a.Adding x + y causes the following exception- TypeError: Unsupported operand type(s) for +: ''int'' and ''str''')\n",
    "\n"
   ]
  },
  {
   "cell_type": "code",
   "execution_count": 12,
   "id": "b40abc43",
   "metadata": {},
   "outputs": [
    {
     "name": "stdout",
     "output_type": "stream",
     "text": [
      "Referring 12th item in a list which has only 10 items\n",
      "Length of index a is  10\n",
      "9.b.Trying to refer a[12] causes the following exception - IndexError: list index out of range\n"
     ]
    }
   ],
   "source": [
    "print('Referring 12th item in a list which has only 10 items')\n",
    "a=['a','b','c','d','e','f','g','h','i','j']\n",
    "print('Length of index a is ', + len(a))\n",
    "print('9.b.Trying to refer a' +'[12' + ']' +' causes the following exception - IndexError: list index out of range')"
   ]
  },
  {
   "cell_type": "code",
   "execution_count": 13,
   "id": "330ca705",
   "metadata": {},
   "outputs": [
    {
     "name": "stdout",
     "output_type": "stream",
     "text": [
      "Using a value that is out of range for a function input, such as calling math.sqrt(-1.0)\n",
      "9.c.By evaluating value which is out of range causes the following exception - ValueError: math domain error\n"
     ]
    }
   ],
   "source": [
    "import math\n",
    "print('Using a value that is out of range for a function input, such as calling math.sqrt(-1.0)')\n",
    "print('9.c.By evaluating value which is out of range causes the following exception - ValueError: math domain error')"
   ]
  },
  {
   "cell_type": "code",
   "execution_count": 14,
   "id": "aa49a5bf",
   "metadata": {},
   "outputs": [
    {
     "name": "stdout",
     "output_type": "stream",
     "text": [
      "Using an undeclared variable, such as print(a) when a has not been defined\n",
      "9.d.Trying to print undefined variable causes the following exception - name a i is not defined\n"
     ]
    }
   ],
   "source": [
    "print('Using an undeclared variable, such as print(a) when a has not been defined')\n",
    "#print(a)\n",
    "print('9.d.Trying to print undefined variable causes the following exception - name a i is not defined')"
   ]
  },
  {
   "cell_type": "code",
   "execution_count": 15,
   "id": "e17e6876",
   "metadata": {},
   "outputs": [
    {
     "name": "stdout",
     "output_type": "stream",
     "text": [
      "Trying to open a file that doesnot exist, such as mistyping the filename or looking in the wrong directory\n",
      "9.e.Trying to open a file that does not exist causes the following exception - FileNotFoundError : [Errno 2] No such file or directory : books.txt\n"
     ]
    }
   ],
   "source": [
    "print('Trying to open a file that doesnot exist, such as mistyping the filename or looking in the wrong directory')\n",
    "#bookfile=open('books.txt')\n",
    "print('9.e.Trying to open a file that does not exist causes the following exception - FileNotFoundError : [Errno 2] No such file or directory : books.txt')"
   ]
  },
  {
   "cell_type": "code",
   "execution_count": 16,
   "id": "86e3d8f8",
   "metadata": {},
   "outputs": [
    {
     "name": "stdout",
     "output_type": "stream",
     "text": [
      "[1, 0, 0, 0, 1, 0, 0, 0, 0, 0, 0, 1, 0, 0, 0, 2, 0, 0, 0, 0, 0, 0, 0, 0, 0, 0]\n"
     ]
    }
   ],
   "source": [
    "import string\n",
    "d = dict.fromkeys(string.ascii_lowercase, 0)\n",
    "s = 'apple'\n",
    "for i in s:\n",
    "    i = i.lower()\n",
    "    if i in d:\n",
    "        d[i] += 1\n",
    "print(list(d.values()))"
   ]
  },
  {
   "cell_type": "code",
   "execution_count": null,
   "id": "b344564e",
   "metadata": {},
   "outputs": [],
   "source": []
  }
 ],
 "metadata": {
  "kernelspec": {
   "display_name": "Python 3 (ipykernel)",
   "language": "python",
   "name": "python3"
  },
  "language_info": {
   "codemirror_mode": {
    "name": "ipython",
    "version": 3
   },
   "file_extension": ".py",
   "mimetype": "text/x-python",
   "name": "python",
   "nbconvert_exporter": "python",
   "pygments_lexer": "ipython3",
   "version": "3.9.12"
  }
 },
 "nbformat": 4,
 "nbformat_minor": 5
}
